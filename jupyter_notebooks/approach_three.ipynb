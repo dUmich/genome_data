{
 "cells": [
  {
   "cell_type": "markdown",
   "metadata": {},
   "source": [
    "# Looking at the identical resistance patterns"
   ]
  },
  {
   "cell_type": "code",
   "execution_count": 1,
   "metadata": {},
   "outputs": [
    {
     "name": "stdout",
     "output_type": "stream",
     "text": [
      "versions\n",
      "------------\n",
      "pandas:  0.17.1\n",
      "numpy:  1.10.4\n",
      "mpl:  1.5.1\n"
     ]
    }
   ],
   "source": [
    "# generic import environment\n",
    "# =-=-=-=-=-=-=-=-=-=-=-=-=-=-=-=-=-=-=-=-=-=-=-=-=-=-=-=-=-=-=-=-=-=-=-=-=-=-=\n",
    "print('versions')\n",
    "print ('------------')\n",
    "import pandas as pd\n",
    "print('pandas: ', pd.__version__)\n",
    "\n",
    "pd.set_option('display.max_columns', None)\n",
    "# pd.set_option('display.float_format', lambda x: '%.3f' % x)\n",
    "\n",
    "import numpy as np\n",
    "print('numpy: ', np.__version__)\n",
    "# np.set_printoptions(suppress=False)\n",
    "\n",
    "import time as time\n",
    "import datetime\n",
    "\n",
    "import matplotlib as mpl\n",
    "import matplotlib.pyplot as plt\n",
    "print('mpl: ', mpl.__version__)\n",
    "%matplotlib inline"
   ]
  },
  {
   "cell_type": "code",
   "execution_count": 2,
   "metadata": {},
   "outputs": [
    {
     "name": "stdout",
     "output_type": "stream",
     "text": [
      "(999, 607)\n"
     ]
    }
   ],
   "source": [
    "# load data\n",
    "df = pd.read_csv('data/kmer_example.csv', sep='\\t')\n",
    "print(df.shape)"
   ]
  },
  {
   "cell_type": "code",
   "execution_count": 3,
   "metadata": {
    "collapsed": true
   },
   "outputs": [],
   "source": [
    "# force convert R/S col's to int; check for erroneous data\n",
    "for x in df.columns.values[1:]:\n",
    "    df[x] = df[x].astype(int)"
   ]
  },
  {
   "cell_type": "code",
   "execution_count": 5,
   "metadata": {
    "collapsed": true
   },
   "outputs": [],
   "source": [
    "# simple function to determine string length\n",
    "def str_length(s):\n",
    "    return len(str(s))"
   ]
  },
  {
   "cell_type": "markdown",
   "metadata": {},
   "source": [
    "### take duplicate resistance \"patterns\" and spot check nucoletiode sequences"
   ]
  },
  {
   "cell_type": "code",
   "execution_count": 16,
   "metadata": {},
   "outputs": [
    {
     "name": "stdout",
     "output_type": "stream",
     "text": [
      "607 | 548  ==>  0.0972 (%) of resistance \"patterns\" are duplicates\n"
     ]
    }
   ],
   "source": [
    "# force convert R/S col's to int; check for erroneous data\n",
    "for x in df.columns.values[1:]:\n",
    "    df[x] = df[x].astype(str)\n",
    "\n",
    "join_cols = df.columns.values[1:]\n",
    "\n",
    "mapping_df = pd.DataFrame()\n",
    "\n",
    "mapping_df['super_kmer'] = df[join_cols].apply(lambda x: ''.join(x), axis=1)\n",
    "\n",
    "og_shape = df.shape[1]\n",
    "new_shape = len(mapping_df['super_kmer'].unique())\n",
    "print( og_shape, '|', new_shape, ' ==> ', np.round((1 - (float(new_shape)/float(og_shape))),4), '(%) of resistance \"patterns\" are duplicates' )\n",
    "\n",
    "for x in df.columns.values[1:]:\n",
    "    df[x] = df[x].astype(int)"
   ]
  },
  {
   "cell_type": "code",
   "execution_count": 41,
   "metadata": {
    "collapsed": true
   },
   "outputs": [],
   "source": [
    "unique_resist_pattern_list = list(mapping_df.values)\n",
    "count_iter = []\n",
    "for x in unique_resist_pattern_list:\n",
    "    count_iter.append(unique_resist_pattern_list.count(x))\n",
    "print(max(count_iter))    "
   ]
  },
  {
   "cell_type": "code",
   "execution_count": 60,
   "metadata": {},
   "outputs": [
    {
     "data": {
      "text/plain": [
       "array([158,  78,  23,  20,  13,  11,   9,   8,   7,   6,   5,   4,   3,\n",
       "         2,   1])"
      ]
     },
     "execution_count": 60,
     "metadata": {},
     "output_type": "execute_result"
    }
   ],
   "source": [
    "ctr_df = pd.DataFrame({'count':count_iter,'pattern':unique_resist_pattern_list})\n",
    "ctr_df = ctr_df.sort_values(['count'],ascending=False)\n",
    "ctr_df = ctr_df.reset_index(drop=True)\n",
    "ctr_df['count'].unique()"
   ]
  },
  {
   "cell_type": "code",
   "execution_count": 61,
   "metadata": {},
   "outputs": [
    {
     "data": {
      "text/plain": [
       "<matplotlib.collections.PathCollection at 0x118bff358>"
      ]
     },
     "execution_count": 61,
     "metadata": {},
     "output_type": "execute_result"
    },
    {
     "data": {
      "image/png": "[encoded data removed]",
      "text/plain": [
       "<matplotlib.figure.Figure at 0x118b72ac8>"
      ]
     },
     "metadata": {},
     "output_type": "display_data"
    }
   ],
   "source": [
    "mpl.rc('figure', figsize=(5, 5))\n",
    "XXX = ctr_df.index.values\n",
    "YYY = ctr_df['count'].values\n",
    "\n",
    "plt.scatter(XXX, YYY, s=300, facecolors='none', edgecolors='r',alpha=0.1)"
   ]
  },
  {
   "cell_type": "code",
   "execution_count": null,
   "metadata": {
    "collapsed": true
   },
   "outputs": [],
   "source": [
    "mapping_df['kmer'] = df['kmer']"
   ]
  },
  {
   "cell_type": "markdown",
   "metadata": {},
   "source": [
    "##### all of these have an identical resistance pattern..."
   ]
  },
  {
   "cell_type": "code",
   "execution_count": 110,
   "metadata": {},
   "outputs": [
    {
     "data": {
      "text/plain": [
       "array(['AAAAAAAAGACATAATTAAAGCATATAT', 'AAAAAAAAGTAATTGCAGCTATTATTGG',\n",
       "       'AAAAAAAATATCCACGAACCATGGTTGT', 'AAAAAAAATATGTTGCAGCACGCGCGAT',\n",
       "       'AAAAAAAATGCTATTAATGATCTCGAAG', 'AAAAAAACAAATCGTACCTCAAATCACT',\n",
       "       'AAAAAAACAACATCAAAAAAAAGAACAA', 'AAAAAAACAACATTAGATATCACTGGTA',\n",
       "       'AAAAAAACAAGCAACTACCATTACGATA', 'AAAAAAACAATTGATTACAACAACTGAA',\n",
       "       'AAAAAAACAATTGCACAGTATAAAAAGG', 'AAAAAAACACCAACAATTTTTATAAGAG',\n",
       "       'AAAAAAACAGATGATGTTGAAATGACTT', 'AAAAAAACAGTAAGCCATTTAAATGACT',\n",
       "       'AAAAAAACATGTATTGAATGGCGAGTTT', 'AAAAAAACATTCCCTGGATATGTTTTAG',\n",
       "       'AAAAAAACCACCTTTTCTCTATATTTAC', 'AAAAAAACCTGAAAATGAGTTAATTAAA',\n",
       "       'AAAAAAACGAACGTTAAACATGAATCAC', 'AAAAAAACGATCATGTTGTATTTGAGTA',\n",
       "       'AAAAAAACGCACAACCATCCATAGGAAA', 'AAAAAAACGCCATCAACATCAAATAAAA',\n",
       "       'AAAAAAACGCCATGCACTTGGTTGTTGT', 'AAAAAAACGCTGACTTACATCAGCGTTT',\n",
       "       'AAAAAAACGTAATAAAGAAAATGCTGAT', 'AAAAAAACGTACAAAGTCAATTGCATAT',\n",
       "       'AAAAAAACGTACATGTGTACCTACTTTG', 'AAAAAAACGTATTTTAAATGGGCAGAAA',\n",
       "       'AAAAAAACGTCTAAAAATATCGATAAAT', 'AAAAAAACGTGTTAAAGTGAATCACACT',\n",
       "       'AAAAAAACTAATTACCTTAAACCTTCTG', 'AAAAAAACTGCATCTAATAATACGAAAA',\n",
       "       'AAAAAAACTGCTTGATAGGCTAAGAAAC', 'AAAAAAACTTTAGGATGGAATACCTAAA',\n",
       "       'AAAAAAACTTTATAAAATAGTTAGAAAG', 'AAAAAAAGAAAAAGGTGATGTTTTTAAA',\n",
       "       'AAAAAAAGAAAATAAAGATAAGAAATAA', 'AAAAAAAGAAAATTAGTCTTTTTGCGTT',\n",
       "       'AAAAAAAGAAAGGTCTAGGTCGTAAACT', 'AAAAAAAGAAAGTCATACTGGTAAGTGG',\n",
       "       'AAAAAAAGAAGAGCTTTAAATCATAACG', 'AAAAAAAGAATATATGACGCTTGCAAAT',\n",
       "       'AAAAAAAGACAAGTCAGCAAGCAAGCAT', 'AAAAAAAGACAGGTTTTACAAATGCCGA',\n",
       "       'AAAAAAAGACATAATTAAAGCATATATA', 'AAAAAAAGAGGTAAACAAGAAGTTCGTT',\n",
       "       'AAAAAAAGAGGTGGCAAAGTGATTAAGT', 'AAAAAAAGATGAGATGTTAGAAAACATC',\n",
       "       'AAAAAAAGATTAGTAGCCACAATTTTGA', 'AAAAAAAGATTTTGATTTTATGTCAGTA',\n",
       "       'AAAAAAAGCACCAAAAATTTAAATGGAG', 'AAAAAAAGCACGTACTTTAAAGAAACAT',\n",
       "       'AAAAAAAGCAGATAAGCAAATACATAAA', 'AAAAAAAGCATAGCTTAATGTATGCTAA',\n",
       "       'AAAAAAAGCCTATCTCCATAAAAGATAG', 'AAAAAAAGCGAAAAACGTCTTTCTCGCA',\n",
       "       'AAAAAAAGCGAAGGTTAATTTAACCTAC', 'AAAAAAAGCTAAAAATACTTAAAAAACT',\n",
       "       'AAAAAAAGGAAGTTTAATAGAATGTATC', 'AAAAAAAGGACTTAACAATGTTGGAAGT',\n",
       "       'AAAAAAAGGATCAGGAGAAATTATAAAT', 'AAAAAAAGGGTGCAACAGGTTATTGCAG',\n",
       "       'AAAAAAAGGTGATATCGAATCAATTTAC', 'AAAAAAAGTAACTGCTAAAGCACAAAAT',\n",
       "       'AAAAAAAGTAATTGCAGCTATTATTGGG', 'AAAAAAAGTAGATGTAGTGTTTGAACTA',\n",
       "       'AAAAAAAGTAGTATTAGCTGCACAAATT', 'AAAAAAAGTCGCTTAACTGGAAGATTAT',\n",
       "       'AAAAAAAGTTAATATCTTGTGGTAATCT', 'AAAAAAAGTTCGACAAATACCTGGCGAT',\n",
       "       'AAAAAAAGTTTGAAATTGTCTAATAAAT', 'AAAAAAATAAAGGTAACGAAACATTCAT',\n",
       "       'AAAAAAATAAATAGAGATGTTAAGTTAA', 'AAAAAAATAACAGCATCTTAACAAATGT',\n",
       "       'AAAAAAATAACCGATATTAGCTGCATGA', 'AAAAAAATAAGAGTAACACGCTTTCATC',\n",
       "       'AAAAAAATAATCTCTCTCTTTTAATGAA', 'AAAAAAATAATTACATTGCACAAATTAA',\n",
       "       'AAAAAAATAATTTTTCAACAAAACCAAA', 'AAAAAAATACCGTGGATGATAGTAAACT',\n",
       "       'AAAAAAATACGTTAGACAATGCACTTCT', 'AAAAAAATACTTTTACTTATCTAGCTTA',\n",
       "       'AAAAAAATACTTTTGAGGTGATTATATG', 'AAAAAAATAGTATAGGACTGAGGCAAAG',\n",
       "       'AAAAAAATAGTGCATATTTAGGAACTAA', 'AAAAAAATAGTTTTGCCACCGTTTTTTA',\n",
       "       'AAAAAAATATAAAATACCGGCAACTGGG', 'AAAAAAATATAGGTTTAGCAATCGCTAT',\n",
       "       'AAAAAAATATCCACGAACCATGGTTGTT', 'AAAAAAATATCCATATATTAAAAGAATG',\n",
       "       'AAAAAAATATGAAATGAACGGTACTAAA', 'AAAAAAATATGCAGAACATTTACACTAT',\n",
       "       'AAAAAAATATGTTGCAGCACGCGCGATA', 'AAAAAAATATTAAAAAGAGTAAAATAGA',\n",
       "       'AAAAAAATATTCCCGTACATTTTGATGT', 'AAAAAAATATTGATATATAGTAAATATT',\n",
       "       'AAAAAAATATTTTGTCATAAAACTTACA', 'AAAAAAATCAGTAGATATAGCATTAAAC',\n",
       "       'AAAAAAATCATGTATAATATATGTTGTT', 'AAAAAAATCATTTAATCGAATGATGCAG',\n",
       "       'AAAAAAATCATTTCCCATCTGATTAACA', 'AAAAAAATCCATTCTACTGTTGTAGATA',\n",
       "       'AAAAAAATCGAAGATACAGTATCATTAT', 'AAAAAAATCGTAGGTATTGTTAAACCAG',\n",
       "       'AAAAAAATCTGAACGCAAATGACAGTCT', 'AAAAAAATCTTAAAAGACTCAGGATTAG',\n",
       "       'AAAAAAATCTTAATACTGTATGTGAAGA', 'AAAAAAATCTTTCAACATCTTGATCATT',\n",
       "       'AAAAAAATGAAAACATTAATGTAGAGAT', 'AAAAAAATGACCAAGAAGCTTATGAATT',\n",
       "       'AAAAAAATGATGTGCAAGAAACAGAAGT', 'AAAAAAATGATTATTTAACATTTTATCG',\n",
       "       'AAAAAAATGCCTAGAGTATTAAGTAAAC', 'AAAAAAATGCTATTAATGATCTCGAAGA',\n",
       "       'AAAAAAATGCTTTATATCGCTAATGTTG', 'AAAAAAATGGCAAATTTAATTCCTAATA',\n",
       "       'AAAAAAATGGCGACATTACTGAAGATGA', 'AAAAAAATGGTTATATATCATTATTGCC',\n",
       "       'AAAAAAATGTCAAAGTTGAAACAATTGG', 'AAAAAAATGTCCCCTTTATCATCAATAT',\n",
       "       'AAAAAAATGTTATCTAAAAAAGAAACTT', 'AAAAAAATGTTCTAAATTTAAATGTGCG',\n",
       "       'AAAAAAATGTTGCGCCTTTAGAATTAGC', 'AAAAAAATGTTGGCGCTATTATGACGCG',\n",
       "       'AAAAAAATTAAAAATAATGGAGGAATTA', 'AAAAAAATTAAATGCCACACTTACAATT',\n",
       "       'AAAAAAATTAACTTCAATGATTTTTTAT', 'AAAAAAATTACCTGGTAAAGATGTTAAA',\n",
       "       'AAAAAAATTACGATTAACAAATATTAAA', 'AAAAAAATTAGAAAATTAGCAATTCAAA',\n",
       "       'AAAAAAATTAGCTATGATAATAAATGGT', 'AAAAAAATTATGATAAGTTATTAACAAG',\n",
       "       'AAAAAAATTATGATTACTGGTGCATTAG', 'AAAAAAATTATGGTTATTTTCGGTACGA',\n",
       "       'AAAAAAATTATTATCAATGATGAACTAG', 'AAAAAAATTATTGACGATGAAGGTATTG',\n",
       "       'AAAAAAATTATTTTCGCAAGTTGAAGAA', 'AAAAAAATTCACTTCTAAAATGAGCCAT',\n",
       "       'AAAAAAATTCATAGGTTTATGTAATCAA', 'AAAAAAATTCCGATGCGAAAATGTATTC',\n",
       "       'AAAAAAATTCCTAAACGAATGCCACAAC', 'AAAAAAATTCGGCTATTGGCGAGATACG',\n",
       "       'AAAAAAATTGGAATATGAGTTATATCCA', 'AAAAAAATTGTACAAATAGCGTCATAAA',\n",
       "       'AAAAAAATTGTTATTATCGCTGTTTTAG', 'AAAAAAATTTAATCGCAATAAAGCAATT',\n",
       "       'AAAAAACAAAACAATTAAGATTTACAAA', 'AAAAAACAAAATTCTAATTAAAAAGACT',\n",
       "       'AAAAAACAAACGTCGTACGCATTTCAAA', 'AAAAAACAAATCGTACCTCAAATCACTG',\n",
       "       'AAAAAACAAATCGTCGTGTTACTTTTGA', 'AAAAAACAAATTTTAAAACGTATTTTAT',\n",
       "       'AAAAAACAACACCTGTTGTCTGGGATAT', 'AAAAAACAACAGATTTAAGAGAAGATAA',\n",
       "       'AAAAAACAACATCAAAAAAAAGAACAAA', 'AAAAAACAACATTAGATATCACTGGTAT',\n",
       "       'AAAAAACAACCAACAGCATGAGCCATTG', 'AAAAAACAACTAGTTGATGAAATTGCTG'], dtype=object)"
      ]
     },
     "execution_count": 110,
     "metadata": {},
     "output_type": "execute_result"
    }
   ],
   "source": [
    "xyz = ctr_df[(ctr_df['count']==ctr_df['count'].unique()[0])].iloc[0,:].values[1][0]\n",
    "kmer_list_bunch = mapping_df[(mapping_df['super_kmer']==xyz)]['kmer'].values\n",
    "pd.Series(kmer_list_bunch).unique()"
   ]
  },
  {
   "cell_type": "code",
   "execution_count": 95,
   "metadata": {},
   "outputs": [
    {
     "data": {
      "text/plain": [
       "array(['AAAAAAAAATCAAATCCTGACTATTTAG', 'AAAAAAAATAAAATTTCTGGTTTTCAAT',\n",
       "       'AAAAAAAATAATTCATGTATTAAAAAAA', 'AAAAAAAATCAAATCCTGACTATTTAGC',\n",
       "       'AAAAAAAATCCCAGAAAATTAACACCTC', 'AAAAAAAATTGTAGAAGCTTGGCCAGCA',\n",
       "       'AAAAAAACAATTTACTTTGACATGCTAT', 'AAAAAAACACCTCGACATAACTTCGAGG',\n",
       "       'AAAAAAACACTCATTATTTCAATGGCCC', 'AAAAAAACAGTTATATATTTTTGTTAGA',\n",
       "       'AAAAAAACATTAATTTCAAAGCGTATGC', 'AAAAAAACCCACTAACGAAATTATGAAA',\n",
       "       'AAAAAAACGCGCCAATATAAAACCATTT', 'AAAAAAACTAAGCGTGCTGTTCGTGTCA',\n",
       "       'AAAAAAACTCATAGCAATCTGTTGTCGG', 'AAAAAAAGAAACATTGATATCTCAGTTT',\n",
       "       'AAAAAAAGAAAGGCACGATGTATAGAAC', 'AAAAAAAGAACCATTCTTTGGTGTTGCA',\n",
       "       'AAAAAAAGATAACACTTATAAAATTCTA', 'AAAAAAAGATAATAATGAAGTGCGTATT',\n",
       "       'AAAAAAAGATAGAAATACCCACTAAAAA', 'AAAAAAAGATCGCTGCCATTAAACGAAT',\n",
       "       'AAAAAAAGCACTAAACTTTTAATGAAAT', 'AAAAAAAGCCAAGGCAACGGATGTTACC',\n",
       "       'AAAAAAAGCCGAACAAATTATAGATTTT', 'AAAAAAAGCGATTCATCAGATGTCAAAA',\n",
       "       'AAAAAAAGCTACATCAAAATTGAACAAA', 'AAAAAAAGCTTGTTACAAGCGTATTTTC',\n",
       "       'AAAAAAAGGGTTTAACGACACTAGAGGC', 'AAAAAAAGGTCGAAGAATTTAAAAATCA',\n",
       "       'AAAAAAAGGTGTTAACTTTTCGTTAATG', 'AAAAAAAGGTTGAATAGCGAACGAAGTA',\n",
       "       'AAAAAAAGTAATGGTGGTAAAACTTTAA', 'AAAAAAAGTAGTAAACATTGTACAGATA',\n",
       "       'AAAAAAAGTATCCTGTGAAAATGAAAAA', 'AAAAAAAGTCATATGTTTATCTACAGAT',\n",
       "       'AAAAAAATAAAATTTCTGGTTTTCAATG', 'AAAAAAATAAGAACAGGTAATTATAAGC',\n",
       "       'AAAAAAATAATCCATATCTATATGAATA', 'AAAAAAATAATCTTAGTACCAACATTAA',\n",
       "       'AAAAAAATAATGATATTCAATTACTTAT', 'AAAAAAATAATTCATGTATTAAAAAAAG',\n",
       "       'AAAAAAATAGAAGCTATGGTAGATAACA', 'AAAAAAATAGCAAAATATGTCACAGATA',\n",
       "       'AAAAAAATAGCAGAATTAGTAGAGCGGA', 'AAAAAAATAGGTTTAGGCATTTGTCGAT',\n",
       "       'AAAAAAATATGAACTAAGACAGTGACTC', 'AAAAAAATATGAAGTCCGAGTTTATTGC',\n",
       "       'AAAAAAATATGCTAGATACTTTAAAGAT', 'AAAAAAATATGGGAATCGGCGCTGGTGA',\n",
       "       'AAAAAAATATTCTGTCGGGGGTATCACG', 'AAAAAAATATTTACTATACATACGAATC',\n",
       "       'AAAAAAATCAAATCCTGACTATTTAGCT', 'AAAAAAATCACTTTCTTAGATACACCTG',\n",
       "       'AAAAAAATCCCAGAAAATTAACACCTCG', 'AAAAAAATCGCTTCAAAAGCTGTAGTTT',\n",
       "       'AAAAAAATCGGTCAATTCATTAAAAGAG', 'AAAAAAATCTACTAAGTGCCATTGAAAA',\n",
       "       'AAAAAAATCTAGTATTCATTGGTGCAAC', 'AAAAAAATCTGGATTTAGCGTTAACGCC',\n",
       "       'AAAAAAATGAAAAAGAACTTGCTAAGAT', 'AAAAAAATGAATAGAAAAGATGCCAAAG',\n",
       "       'AAAAAAATGATTCAATTGAAAACAGACG', 'AAAAAAATGATTGATTATGATGATGGGA',\n",
       "       'AAAAAAATGCGCCTACTCATAACACTTC', 'AAAAAAATGTCATGAAAGTTTAGCATTG',\n",
       "       'AAAAAAATGTTGAAAATAAATAAAATAG', 'AAAAAAATGTTGATAAAAAATATATTGA',\n",
       "       'AAAAAAATTAAAAGATGCAATTGAAGAT', 'AAAAAAATTATCAAAAACTGAAATTGAT',\n",
       "       'AAAAAAATTATTATTAGATGAGTTGTGT', 'AAAAAAATTATTTGCTGAGTTAGATGCA',\n",
       "       'AAAAAAATTGAATTTAGAATTGTAGCCT', 'AAAAAAATTGTAGAAGCTTGGCCAGCAG',\n",
       "       'AAAAAAATTGTTGGATCTATTGTTGATT', 'AAAAAAATTTACCTGGTGTAAAAATGAA',\n",
       "       'AAAAAACAAAAGCAGTACATTTAACAGA', 'AAAAAACAACAGATTTTGGTGAAGCGAA'], dtype=object)"
      ]
     },
     "execution_count": 95,
     "metadata": {},
     "output_type": "execute_result"
    }
   ],
   "source": [
    "xyz = ctr_df[(ctr_df['count']==ctr_df['count'].unique()[1])].iloc[0,:].values[1][0]\n",
    "kmer_list_bunch = mapping_df[(mapping_df['super_kmer']==xyz)]['kmer'].values\n",
    "pd.Series(kmer_list_bunch).unique()"
   ]
  },
  {
   "cell_type": "code",
   "execution_count": 96,
   "metadata": {},
   "outputs": [
    {
     "data": {
      "text/plain": [
       "array(['AAAAAAACATTTCTCATTTTCAAAATCA', 'AAAAAAACCTATAGATGCCATTAATGAT',\n",
       "       'AAAAAAACGCATCACTGAGATTTTGATT', 'AAAAAAACGGCGTATGCTTATATGTAAG',\n",
       "       'AAAAAAAGAGGCAACCGTCAGTAACAGT', 'AAAAAAAGGCCCAAAAAGATAAAAATAC',\n",
       "       'AAAAAAATAATGCTTTTAATTGCAGTCA', 'AAAAAAATAATTGGGTTAATTTTATTAT',\n",
       "       'AAAAAAATACAAAAATCTAACCTTCTTG', 'AAAAAAATACATCCATCGACAAGAACAA',\n",
       "       'AAAAAAATAGCATAGAGTTATAAAAAAT', 'AAAAAAATAGCATTATATATAAATTCAA',\n",
       "       'AAAAAAATGCTAATAAAAATAATTAATG', 'AAAAAAATGTTCATCAAAAGCAAAGGTT',\n",
       "       'AAAAAAATTAACTGAACATTATGATGTA', 'AAAAAAATTAGAAAATAGATTATTTAAG',\n",
       "       'AAAAAAATTAGTATCTACATCAGATACT', 'AAAAAAATTATCAAAATTTAAATTTTTG',\n",
       "       'AAAAAAATTATGACCAAATAAGTTCTAT', 'AAAAAAATTTTGCTATCATAAATAACGT',\n",
       "       'AAAAAACAAAATTCATTAGATTCAGTAG', 'AAAAAACAAATTTTTTAGGGGTAAACGG',\n",
       "       'AAAAAACAACTAAAATAACTATCAATAG'], dtype=object)"
      ]
     },
     "execution_count": 96,
     "metadata": {},
     "output_type": "execute_result"
    }
   ],
   "source": [
    "xyz = ctr_df[(ctr_df['count']==ctr_df['count'].unique()[2])].iloc[0,:].values[1][0]\n",
    "kmer_list_bunch = mapping_df[(mapping_df['super_kmer']==xyz)]['kmer'].values\n",
    "pd.Series(kmer_list_bunch).unique()"
   ]
  },
  {
   "cell_type": "code",
   "execution_count": 97,
   "metadata": {},
   "outputs": [
    {
     "data": {
      "text/plain": [
       "array(['AAAAAAAATAGCTATTTTACCTCAATCA', 'AAAAAAAATCATCGTATCTCAGGATGAT',\n",
       "       'AAAAAAACATTACCTACTACATTTGAAT', 'AAAAAAACCACCCATACGATTTTCAATA',\n",
       "       'AAAAAAACGTTGAACTTTATTTAAAGGT', 'AAAAAAAGAAATGAAGTATTTCTGAAAA',\n",
       "       'AAAAAAAGATAGTTATTTATGTGAATGG', 'AAAAAAAGGGTTGTCAGCGGGTCGAGTT',\n",
       "       'AAAAAAAGTGGGCCCACGTTTGGGTGCC', 'AAAAAAATAACGAGTTACGAAAAAGTAA',\n",
       "       'AAAAAAATAGCTATTTTACCTCAATCAC', 'AAAAAAATATAACTTATATTTATACTGA',\n",
       "       'AAAAAAATCAAAAGACACAGCATATTTC', 'AAAAAAATCAGTCGGCAAAATCTCATTT',\n",
       "       'AAAAAAATCATCGTATCTCAGGATGATA', 'AAAAAAATCCGCAATACAAATAAAGGTA',\n",
       "       'AAAAAAATGCAAAATTAACTAATAAATT', 'AAAAAAATTATAATACTTCTAAAAATGA',\n",
       "       'AAAAAACAAATCGTTTCTTCTTATTCGC', 'AAAAAACAACATGCGTGTGGAACCAATC'], dtype=object)"
      ]
     },
     "execution_count": 97,
     "metadata": {},
     "output_type": "execute_result"
    }
   ],
   "source": [
    "xyz = ctr_df[(ctr_df['count']==ctr_df['count'].unique()[3])].iloc[0,:].values[1][0]\n",
    "kmer_list_bunch = mapping_df[(mapping_df['super_kmer']==xyz)]['kmer'].values\n",
    "pd.Series(kmer_list_bunch).unique()"
   ]
  },
  {
   "cell_type": "code",
   "execution_count": 98,
   "metadata": {},
   "outputs": [
    {
     "data": {
      "text/plain": [
       "array(['AAAAAAAATCAAATCGTTTCGAGAGATA', 'AAAAAAACCTGTAATCTTCCGTGCTACA',\n",
       "       'AAAAAAAGAACTAAGAGGTTGAGCTCTT', 'AAAAAAAGATAAGGCTGAAGAAAAGCGT',\n",
       "       'AAAAAAAGATGAGCATCTACTGTCTCAT', 'AAAAAAAGATTATGCAGATATTAACTTT',\n",
       "       'AAAAAAAGCTATTACGACTGGTTTTCTT', 'AAAAAAATAAATCCGCTATCTAAATGAC',\n",
       "       'AAAAAAATAACGGTCTCATTTAAGAGAC', 'AAAAAAATATATAAGTCATTAACTGTCT',\n",
       "       'AAAAAAATCAAATCGTTTCGAGAGATAC', 'AAAAAACAAAAAGAAAAAGTTAAGCCAA',\n",
       "       'AAAAAACAAATAATGATGTTTCAACAAA'], dtype=object)"
      ]
     },
     "execution_count": 98,
     "metadata": {},
     "output_type": "execute_result"
    }
   ],
   "source": [
    "xyz = ctr_df[(ctr_df['count']==ctr_df['count'].unique()[4])].iloc[0,:].values[1][0]\n",
    "kmer_list_bunch = mapping_df[(mapping_df['super_kmer']==xyz)]['kmer'].values\n",
    "pd.Series(kmer_list_bunch).unique()"
   ]
  },
  {
   "cell_type": "code",
   "execution_count": 99,
   "metadata": {},
   "outputs": [
    {
     "data": {
      "text/plain": [
       "array(['AAAAAAACAAAAAATTAAACGGTATTGA', 'AAAAAAACTATAAAATTTTTCAAGTAAT',\n",
       "       'AAAAAAAGACCTGACAAACATGAACGTT', 'AAAAAAAGCGATTAAAGCACAACAAGCA',\n",
       "       'AAAAAAAGTATCGATAACCATATATTGG', 'AAAAAAATGATAAACACCAAACATCTGA',\n",
       "       'AAAAAAATGTCAGAATACAAGAAAAAGA', 'AAAAAAATGTGCAAAATTACTTTTGCAC',\n",
       "       'AAAAAAATTATGTATCTAAATCATATGC', 'AAAAAAATTCCCGAGCACTACAACAAGG',\n",
       "       'AAAAAACAAAAAATTAAACGGTATTGAT'], dtype=object)"
      ]
     },
     "execution_count": 99,
     "metadata": {},
     "output_type": "execute_result"
    }
   ],
   "source": [
    "xyz = ctr_df[(ctr_df['count']==ctr_df['count'].unique()[5])].iloc[0,:].values[1][0]\n",
    "kmer_list_bunch = mapping_df[(mapping_df['super_kmer']==xyz)]['kmer'].values\n",
    "pd.Series(kmer_list_bunch).unique()"
   ]
  },
  {
   "cell_type": "code",
   "execution_count": 100,
   "metadata": {},
   "outputs": [
    {
     "data": {
      "text/plain": [
       "array(['AAAAAAACGCTCCCTCTCACAAATTCTG', 'AAAAAAACTTTTGAGTAATCGCAAGAAA',\n",
       "       'AAAAAAAGGAACGCTACTTTGGCTAATG', 'AAAAAAATAACCTATGTTATAGATTATG',\n",
       "       'AAAAAAATATTTGGTATTGAAATTAAAA', 'AAAAAAATCATCATTGCAATTCCAACTA',\n",
       "       'AAAAAAATGACCAAGTTACCGGTCATAT', 'AAAAAAATGTTTGTAGAACATAAGGGTT',\n",
       "       'AAAAAAATTTAGAGGTGATGTTATATGA'], dtype=object)"
      ]
     },
     "execution_count": 100,
     "metadata": {},
     "output_type": "execute_result"
    }
   ],
   "source": [
    "xyz = ctr_df[(ctr_df['count']==ctr_df['count'].unique()[6])].iloc[0,:].values[1][0]\n",
    "kmer_list_bunch = mapping_df[(mapping_df['super_kmer']==xyz)]['kmer'].values\n",
    "pd.Series(kmer_list_bunch).unique()"
   ]
  },
  {
   "cell_type": "code",
   "execution_count": 101,
   "metadata": {},
   "outputs": [
    {
     "data": {
      "text/plain": [
       "array(['AAAAAAAACTAATATATGTAGGCAAACT', 'AAAAAAACCTCGCAACGGTTAGTTAGCT',\n",
       "       'AAAAAAACTAATATATGTAGGCAAACTA', 'AAAAAAAGAAATTGAAAGCTTTAAGTTT',\n",
       "       'AAAAAAATATATTATTGAAACAACTTGA', 'AAAAAAATATCATTATTCTTTAATACTA',\n",
       "       'AAAAAAATGTACATCAACATTCAGTACC', 'AAAAAAATGTAGAATAACATACAAAAAA'], dtype=object)"
      ]
     },
     "execution_count": 101,
     "metadata": {},
     "output_type": "execute_result"
    }
   ],
   "source": [
    "xyz = ctr_df[(ctr_df['count']==ctr_df['count'].unique()[7])].iloc[0,:].values[1][0]\n",
    "kmer_list_bunch = mapping_df[(mapping_df['super_kmer']==xyz)]['kmer'].values\n",
    "pd.Series(kmer_list_bunch).unique()"
   ]
  },
  {
   "cell_type": "code",
   "execution_count": 102,
   "metadata": {},
   "outputs": [
    {
     "data": {
      "text/plain": [
       "array(['AAAAAAAGAGGTGGATTCAATAAAATTA', 'AAAAAAAGCGCCAATACAGAACTTTAAT',\n",
       "       'AAAAAAATATATTAAAAAGTGGTATTGC', 'AAAAAAATCATTCATGGTGAGGGCTTCA',\n",
       "       'AAAAAAATCTTTGAATCGATTAACAGTC', 'AAAAAAATTTACTTATGTGCTCTACAAT',\n",
       "       'AAAAAACAAAAAATCCCGCCCCTATACA'], dtype=object)"
      ]
     },
     "execution_count": 102,
     "metadata": {},
     "output_type": "execute_result"
    }
   ],
   "source": [
    "xyz = ctr_df[(ctr_df['count']==ctr_df['count'].unique()[8])].iloc[0,:].values[1][0]\n",
    "kmer_list_bunch = mapping_df[(mapping_df['super_kmer']==xyz)]['kmer'].values\n",
    "pd.Series(kmer_list_bunch).unique()"
   ]
  },
  {
   "cell_type": "code",
   "execution_count": 103,
   "metadata": {},
   "outputs": [
    {
     "data": {
      "text/plain": [
       "array(['AAAAAAAATAATATTTATATTTGTCGTA', 'AAAAAAAGGAAGTATTACGTATTTAAAA',\n",
       "       'AAAAAAATAATATTTATATTTGTCGTAC', 'AAAAAAATACATGATTTAATTAGTGCTA',\n",
       "       'AAAAAAATGAAACTTAAAAAAAATAATA', 'AAAAAAATTGATCGTGTGTTTTTAGAAC'], dtype=object)"
      ]
     },
     "execution_count": 103,
     "metadata": {},
     "output_type": "execute_result"
    }
   ],
   "source": [
    "xyz = ctr_df[(ctr_df['count']==ctr_df['count'].unique()[9])].iloc[0,:].values[1][0]\n",
    "kmer_list_bunch = mapping_df[(mapping_df['super_kmer']==xyz)]['kmer'].values\n",
    "pd.Series(kmer_list_bunch).unique()"
   ]
  },
  {
   "cell_type": "code",
   "execution_count": 105,
   "metadata": {},
   "outputs": [
    {
     "data": {
      "text/plain": [
       "array(['AAAAAAAAGCGCCTATGTCATGATTTAC', 'AAAAAAACCGTAATTTTAATGGGCGTGC',\n",
       "       'AAAAAAAGCGCCTATGTCATGATTTACC', 'AAAAAAATAATATTCAACATAAGCACTT',\n",
       "       'AAAAAAATTAGATAAAGAAGCGCTTTAC'], dtype=object)"
      ]
     },
     "execution_count": 105,
     "metadata": {},
     "output_type": "execute_result"
    }
   ],
   "source": [
    "xyz = ctr_df[(ctr_df['count']==ctr_df['count'].unique()[10])].iloc[0,:].values[1][0]\n",
    "kmer_list_bunch = mapping_df[(mapping_df['super_kmer']==xyz)]['kmer'].values\n",
    "pd.Series(kmer_list_bunch).unique()"
   ]
  },
  {
   "cell_type": "code",
   "execution_count": 106,
   "metadata": {},
   "outputs": [
    {
     "data": {
      "text/plain": [
       "array(['AAAAAAAATTACTAGGGTAGCTAGTGAT', 'AAAAAAACCCTTACAACAAATATGTAAG',\n",
       "       'AAAAAAAGACAGTTCAGATGGAAATAAA', 'AAAAAAATTACTAGGGTAGCTAGTGATA'], dtype=object)"
      ]
     },
     "execution_count": 106,
     "metadata": {},
     "output_type": "execute_result"
    }
   ],
   "source": [
    "xyz = ctr_df[(ctr_df['count']==ctr_df['count'].unique()[11])].iloc[0,:].values[1][0]\n",
    "kmer_list_bunch = mapping_df[(mapping_df['super_kmer']==xyz)]['kmer'].values\n",
    "pd.Series(kmer_list_bunch).unique()"
   ]
  },
  {
   "cell_type": "code",
   "execution_count": 107,
   "metadata": {},
   "outputs": [
    {
     "data": {
      "text/plain": [
       "array(['AAAAAAACATCGGATTTAATTTCAAGAT', 'AAAAAAACGCCATAGATTTTGGGGTGCA',\n",
       "       'AAAAAAATTGCAGTAGTAGGTTATGGAT'], dtype=object)"
      ]
     },
     "execution_count": 107,
     "metadata": {},
     "output_type": "execute_result"
    }
   ],
   "source": [
    "xyz = ctr_df[(ctr_df['count']==ctr_df['count'].unique()[12])].iloc[0,:].values[1][0]\n",
    "kmer_list_bunch = mapping_df[(mapping_df['super_kmer']==xyz)]['kmer'].values\n",
    "pd.Series(kmer_list_bunch).unique()"
   ]
  },
  {
   "cell_type": "code",
   "execution_count": 108,
   "metadata": {},
   "outputs": [
    {
     "data": {
      "text/plain": [
       "array(['AAAAAAACAAAAACAAAATTTAACTGAT', 'AAAAAACAAAAACAAAATTTAACTGATC'], dtype=object)"
      ]
     },
     "execution_count": 108,
     "metadata": {},
     "output_type": "execute_result"
    }
   ],
   "source": [
    "xyz = ctr_df[(ctr_df['count']==ctr_df['count'].unique()[13])].iloc[0,:].values[1][0]\n",
    "kmer_list_bunch = mapping_df[(mapping_df['super_kmer']==xyz)]['kmer'].values\n",
    "pd.Series(kmer_list_bunch).unique()"
   ]
  },
  {
   "cell_type": "code",
   "execution_count": 109,
   "metadata": {},
   "outputs": [
    {
     "data": {
      "text/plain": [
       "array(['AAAAAAATGTTTTTTCTTGATCTATAAC'], dtype=object)"
      ]
     },
     "execution_count": 109,
     "metadata": {},
     "output_type": "execute_result"
    }
   ],
   "source": [
    "xyz = ctr_df[(ctr_df['count']==ctr_df['count'].unique()[14])].iloc[0,:].values[1][0]\n",
    "kmer_list_bunch = mapping_df[(mapping_df['super_kmer']==xyz)]['kmer'].values\n",
    "pd.Series(kmer_list_bunch).unique()"
   ]
  },
  {
   "cell_type": "markdown",
   "metadata": {
    "collapsed": true
   },
   "source": [
    "## chunk search"
   ]
  },
  {
   "cell_type": "code",
   "execution_count": 116,
   "metadata": {},
   "outputs": [],
   "source": [
    "xyz = ctr_df[(ctr_df['count']==ctr_df['count'].unique()[0])].iloc[0,:].values[1][0]\n",
    "kmer_list_bunch = mapping_df[(mapping_df['super_kmer']==xyz)]['kmer'].values\n",
    "top_bucket = pd.Series(kmer_list_bunch).unique()"
   ]
  },
  {
   "cell_type": "code",
   "execution_count": 136,
   "metadata": {
    "collapsed": true
   },
   "outputs": [],
   "source": [
    "def chunk_search(x,chunk_length=4):\n",
    "    starting_pos = np.random.randint(len(x))\n",
    "    if starting_pos > (len(x) - chunk_length):\n",
    "        starting_pos = len(x) - chunk_length\n",
    "    return x[starting_pos:(starting_pos+chunk_length)]"
   ]
  },
  {
   "cell_type": "code",
   "execution_count": 155,
   "metadata": {},
   "outputs": [
    {
     "data": {
      "text/plain": [
       "'TTTT'"
      ]
     },
     "execution_count": 155,
     "metadata": {},
     "output_type": "execute_result"
    }
   ],
   "source": [
    "x = top_bucket[np.random.randint(len(top_bucket))]\n",
    "chunk_search(x)"
   ]
  },
  {
   "cell_type": "code",
   "execution_count": 181,
   "metadata": {},
   "outputs": [],
   "source": [
    "chunk_set = set([])\n",
    "for nuc_seq in top_bucket:\n",
    "    for loop in range(0,2000):\n",
    "        tmp_cnk = chunk_search(nuc_seq,chunk_length=28)\n",
    "        chunk_set.add(tmp_cnk)"
   ]
  },
  {
   "cell_type": "code",
   "execution_count": 195,
   "metadata": {},
   "outputs": [
    {
     "name": "stdout",
     "output_type": "stream",
     "text": [
      "1 4\n",
      "2 16\n",
      "3 64\n",
      "4 247\n",
      "5 756\n",
      "6 1531\n",
      "7 2180\n",
      "8 2493\n",
      "9 2599\n",
      "10 2630\n",
      "11 2603\n",
      "12 2520\n",
      "13 2393\n",
      "14 2255\n",
      "15 2108\n",
      "16 1958\n",
      "17 1808\n",
      "18 1658\n",
      "19 1508\n",
      "20 1358\n",
      "21 1208\n",
      "22 1058\n",
      "23 908\n",
      "24 758\n",
      "25 608\n",
      "26 458\n",
      "27 308\n",
      "28 158\n"
     ]
    }
   ],
   "source": [
    "for uuu in range(1,(len(mapping_df['kmer'].values[5])+1)):\n",
    "    chunk_set = set([])\n",
    "    for nuc_seq in top_bucket:\n",
    "        for loop in range(0,2000):\n",
    "            tmp_cnk = chunk_search(nuc_seq,chunk_length=uuu)\n",
    "            chunk_set.add(tmp_cnk)\n",
    "    print(uuu, len(chunk_set))        "
   ]
  },
  {
   "cell_type": "markdown",
   "metadata": {},
   "source": [
    "####### todo: try bayesian approach | loop through chunk sizes and match with resistance pattern (x in kmer)"
   ]
  },
  {
   "cell_type": "code",
   "execution_count": null,
   "metadata": {
    "collapsed": true
   },
   "outputs": [],
   "source": []
  },
  {
   "cell_type": "code",
   "execution_count": null,
   "metadata": {
    "collapsed": true
   },
   "outputs": [],
   "source": []
  },
  {
   "cell_type": "code",
   "execution_count": null,
   "metadata": {
    "collapsed": true
   },
   "outputs": [],
   "source": []
  }
 ],
 "metadata": {
  "kernelspec": {
   "display_name": "Python 3",
   "language": "python",
   "name": "python3"
  },
  "language_info": {
   "codemirror_mode": {
    "name": "ipython",
    "version": 3
   },
   "file_extension": ".py",
   "mimetype": "text/x-python",
   "name": "python",
   "nbconvert_exporter": "python",
   "pygments_lexer": "ipython3",
   "version": "3.5.1"
  }
 },
 "nbformat": 4,
 "nbformat_minor": 2
}
